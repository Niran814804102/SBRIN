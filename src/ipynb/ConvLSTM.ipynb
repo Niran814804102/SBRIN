{
 "cells": [
  {
   "cell_type": "code",
   "execution_count": 2,
   "metadata": {
    "collapsed": true
   },
   "outputs": [],
   "source": [
    "from keras.models import Sequential\n",
    "from keras.layers import Dropout\n",
    "from keras.layers.convolutional import Conv3D\n",
    "from keras.layers.convolutional_recurrent import ConvLSTM2D\n",
    "from keras.layers import BatchNormalization\n",
    "import numpy as np\n",
    "import pylab as plt"
   ]
  },
  {
   "cell_type": "code",
   "execution_count": 4,
   "outputs": [
    {
     "name": "stdout",
     "output_type": "stream",
     "text": [
      "Model: \"sequential_1\"\n",
      "_________________________________________________________________\n",
      " Layer (type)                Output Shape              Param #   \n",
      "=================================================================\n",
      " conv_lstm2d_3 (ConvLSTM2D)  (None, None, 16, 16, 16)  9856      \n",
      "                                                                 \n",
      " batch_normalization_3 (Batc  (None, None, 16, 16, 16)  64       \n",
      " hNormalization)                                                 \n",
      "                                                                 \n",
      " dropout_3 (Dropout)         (None, None, 16, 16, 16)  0         \n",
      "                                                                 \n",
      " conv_lstm2d_4 (ConvLSTM2D)  (None, None, 16, 16, 32)  55424     \n",
      "                                                                 \n",
      " batch_normalization_4 (Batc  (None, None, 16, 16, 32)  128      \n",
      " hNormalization)                                                 \n",
      "                                                                 \n",
      " dropout_4 (Dropout)         (None, None, 16, 16, 32)  0         \n",
      "                                                                 \n",
      " conv_lstm2d_5 (ConvLSTM2D)  (None, None, 16, 16, 32)  73856     \n",
      "                                                                 \n",
      " batch_normalization_5 (Batc  (None, None, 16, 16, 32)  128      \n",
      " hNormalization)                                                 \n",
      "                                                                 \n",
      " dropout_5 (Dropout)         (None, None, 16, 16, 32)  0         \n",
      "                                                                 \n",
      " conv3d_1 (Conv3D)           (None, None, 16, 16, 1)   865       \n",
      "                                                                 \n",
      "=================================================================\n",
      "Total params: 140,321\n",
      "Trainable params: 140,161\n",
      "Non-trainable params: 160\n",
      "_________________________________________________________________\n"
     ]
    }
   ],
   "source": [
    "# filters: 卷积核数量\n",
    "# kernel_size: 卷积核大小\n",
    "# strides: 卷积核往右和往下移动的步长\n",
    "# padding: 处理边界的策略，valid表示不处理边界，输出shape会变小；same表示处理边界，输出shape和输入shape一致\n",
    "# return_sequences: 是否返回中间序列，true表示输出所有输出，false表示只输出最后一个时间的输出\n",
    "seq = Sequential()\n",
    "seq.add(ConvLSTM2D(filters=16, kernel_size=(3, 3), strides=(1,1),\n",
    "                   input_shape=(None, 16, 16, 1),\n",
    "                   padding='same', return_sequences=True))\n",
    "seq.add(BatchNormalization())\n",
    "seq.add(Dropout(0.3))\n",
    "\n",
    "seq.add(ConvLSTM2D(filters=32, kernel_size=(3, 3),\n",
    "                   padding='same', return_sequences=True))\n",
    "seq.add(BatchNormalization())\n",
    "seq.add(Dropout(0.3))\n",
    "\n",
    "seq.add(ConvLSTM2D(filters=32, kernel_size=(3, 3),\n",
    "                   padding='same', return_sequences=True))\n",
    "seq.add(BatchNormalization())\n",
    "seq.add(Dropout(0.5))\n",
    "\n",
    "\n",
    "seq.add(Conv3D(filters=1, kernel_size=(3, 3, 3),\n",
    "               activation='sigmoid',\n",
    "               padding='same', data_format='channels_last'))\n",
    "seq.compile(loss='binary_crossentropy', optimizer='nadam')\n",
    "seq.summary()"
   ],
   "metadata": {
    "collapsed": false,
    "pycharm": {
     "name": "#%%\n"
    }
   }
  },
  {
   "cell_type": "code",
   "execution_count": 8,
   "outputs": [
    {
     "name": "stderr",
     "output_type": "stream",
     "text": [
      "D:\\ZJU\\Anaconda3\\envs\\learned_index\\lib\\site-packages\\ipykernel_launcher.py:5: DeprecationWarning: `np.float` is a deprecated alias for the builtin `float`. To silence this warning, use `float` by itself. Doing this will not modify any behavior and is safe. If you specifically wanted the numpy scalar type, use `np.float64` here.\n",
      "Deprecated in NumPy 1.20; for more details and guidance: https://numpy.org/devdocs/release/1.20.0-notes.html#deprecations\n",
      "  \"\"\"\n"
     ]
    },
    {
     "data": {
      "text/plain": "(1200, 15, 16, 16, 1)"
     },
     "execution_count": 8,
     "metadata": {},
     "output_type": "execute_result"
    }
   ],
   "source": [
    "def generate_movies(n_samples=1200, n_frames=15):\n",
    "    row = 32\n",
    "    col = 32\n",
    "    shifted_movies = np.zeros((n_samples, n_frames, row, col, 1),\n",
    "                              dtype=np.float)\n",
    "\n",
    "    for i in range(n_samples):\n",
    "        # Add 3 to 7 moving squares\n",
    "        n = np.random.randint(3, 8)\n",
    "\n",
    "        for j in range(n):\n",
    "            # Initial position\n",
    "            xstart = np.random.randint(8, 24)\n",
    "            ystart = np.random.randint(8, 24)\n",
    "            # Direction of motion\n",
    "            directionx = np.random.randint(0, 3) - 1\n",
    "            directiony = np.random.randint(0, 3) - 1\n",
    "\n",
    "            # Size of the square\n",
    "            w = np.random.randint(2, 4)\n",
    "\n",
    "            for t in range(n_frames):\n",
    "                x_shift = xstart + directionx * t\n",
    "                y_shift = ystart + directiony * t\n",
    "\n",
    "                x_shift = xstart + directionx * (t + 1)\n",
    "                y_shift = ystart + directiony * (t + 1)\n",
    "                shifted_movies[i, t, x_shift - w: x_shift + w,\n",
    "                               y_shift - w: y_shift + w, 0] += 1\n",
    "\n",
    "    shifted_movies = shifted_movies[::, ::, 8:24, 8:24, ::]\n",
    "    shifted_movies[shifted_movies >= 1] = 1\n",
    "    return shifted_movies\n",
    "\n",
    "shifted_movies = generate_movies(n_samples=1200)\n",
    "shifted_movies.shape"
   ],
   "metadata": {
    "collapsed": false,
    "pycharm": {
     "name": "#%%\n"
    }
   }
  },
  {
   "cell_type": "code",
   "execution_count": 10,
   "outputs": [
    {
     "name": "stdout",
     "output_type": "stream",
     "text": [
      "Epoch 1/20\n",
      "95/95 [==============================] - 25s 134ms/step - loss: 0.4595 - val_loss: 0.5111\n",
      "Epoch 2/20\n",
      "95/95 [==============================] - 12s 131ms/step - loss: 0.2866 - val_loss: 0.4138\n",
      "Epoch 3/20\n",
      "95/95 [==============================] - 12s 130ms/step - loss: 0.2438 - val_loss: 0.3649\n",
      "Epoch 4/20\n",
      "95/95 [==============================] - 12s 127ms/step - loss: 0.2179 - val_loss: 0.3286\n",
      "Epoch 5/20\n",
      "95/95 [==============================] - 12s 129ms/step - loss: 0.2013 - val_loss: 0.2628\n",
      "Epoch 6/20\n",
      "95/95 [==============================] - 12s 128ms/step - loss: 0.1883 - val_loss: 0.1754\n",
      "Epoch 7/20\n",
      "95/95 [==============================] - 13s 136ms/step - loss: 0.1799 - val_loss: 0.1626\n",
      "Epoch 8/20\n",
      "95/95 [==============================] - 13s 140ms/step - loss: 0.1714 - val_loss: 0.1550\n",
      "Epoch 9/20\n",
      "95/95 [==============================] - 13s 139ms/step - loss: 0.1661 - val_loss: 0.1498\n",
      "Epoch 10/20\n",
      "95/95 [==============================] - 13s 135ms/step - loss: 0.1606 - val_loss: 0.1448\n",
      "Epoch 11/20\n",
      "95/95 [==============================] - 13s 135ms/step - loss: 0.1554 - val_loss: 0.1425\n",
      "Epoch 12/20\n",
      "95/95 [==============================] - 13s 135ms/step - loss: 0.1520 - val_loss: 0.1399\n",
      "Epoch 13/20\n",
      "95/95 [==============================] - 13s 136ms/step - loss: 0.1483 - val_loss: 0.1355\n",
      "Epoch 14/20\n",
      "95/95 [==============================] - 13s 136ms/step - loss: 0.1459 - val_loss: 0.1295\n",
      "Epoch 15/20\n",
      "95/95 [==============================] - 13s 136ms/step - loss: 0.1415 - val_loss: 0.1288\n",
      "Epoch 16/20\n",
      "95/95 [==============================] - 13s 136ms/step - loss: 0.1387 - val_loss: 0.1283\n",
      "Epoch 17/20\n",
      "95/95 [==============================] - 13s 135ms/step - loss: 0.1372 - val_loss: 0.1266\n",
      "Epoch 18/20\n",
      "95/95 [==============================] - 13s 139ms/step - loss: 0.1347 - val_loss: 0.1251\n",
      "Epoch 19/20\n",
      "95/95 [==============================] - 14s 143ms/step - loss: 0.1317 - val_loss: 0.1209\n",
      "Epoch 20/20\n",
      "95/95 [==============================] - 13s 137ms/step - loss: 0.1293 - val_loss: 0.1197\n"
     ]
    },
    {
     "data": {
      "text/plain": "<keras.callbacks.History at 0x217d464b5f8>"
     },
     "execution_count": 10,
     "metadata": {},
     "output_type": "execute_result"
    }
   ],
   "source": [
    "# x为前1000个数据中每个数据的0-10个图片\n",
    "# y为前1000个数据中每个数据的5-15个图片，因此预测5次，步长为10\n",
    "# validation_split: 用于做验证集的数据百分比\n",
    "seq.fit(shifted_movies[:1000, 0:10], shifted_movies[:1000, 5:15], batch_size=10,\n",
    "        epochs=20, validation_split=0.05)"
   ],
   "metadata": {
    "collapsed": false,
    "pycharm": {
     "name": "#%%\n"
    }
   }
  },
  {
   "cell_type": "code",
   "execution_count": 13,
   "outputs": [
    {
     "data": {
      "text/plain": "(10, 16, 16, 1)"
     },
     "execution_count": 13,
     "metadata": {},
     "output_type": "execute_result"
    }
   ],
   "source": [
    "x_true = shifted_movies[:1000, 0:10]\n",
    "x_true[1].shape"
   ],
   "metadata": {
    "collapsed": false,
    "pycharm": {
     "name": "#%%\n"
    }
   }
  },
  {
   "cell_type": "code",
   "execution_count": 11,
   "outputs": [],
   "source": [
    "x_true = shifted_movies[:1000, 0:10]\n",
    "y_true =\n",
    "y_pred = seq.predict(shifted_movies[1000:, 0:10])"
   ],
   "metadata": {
    "collapsed": false,
    "pycharm": {
     "name": "#%%\n"
    }
   }
  },
  {
   "cell_type": "code",
   "execution_count": null,
   "outputs": [],
   "source": [],
   "metadata": {
    "collapsed": false,
    "pycharm": {
     "name": "#%%\n"
    }
   }
  }
 ],
 "metadata": {
  "kernelspec": {
   "display_name": "Python 3",
   "language": "python",
   "name": "python3"
  },
  "language_info": {
   "codemirror_mode": {
    "name": "ipython",
    "version": 2
   },
   "file_extension": ".py",
   "mimetype": "text/x-python",
   "name": "python",
   "nbconvert_exporter": "python",
   "pygments_lexer": "ipython2",
   "version": "2.7.6"
  }
 },
 "nbformat": 4,
 "nbformat_minor": 0
}